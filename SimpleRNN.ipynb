{
  "nbformat": 4,
  "nbformat_minor": 0,
  "metadata": {
    "colab": {
      "provenance": []
    },
    "kernelspec": {
      "name": "python3",
      "display_name": "Python 3"
    },
    "language_info": {
      "name": "python"
    }
  },
  "cells": [
    {
      "cell_type": "code",
      "execution_count": 1,
      "metadata": {
        "id": "RfEioYHU4nUF"
      },
      "outputs": [],
      "source": [
        "import numpy as np\n",
        "import tensorflow as tf\n",
        "from tensorflow.keras.models import Sequential\n",
        "from tensorflow.keras.layers import SimpleRNN, LSTM, GRU, Bidirectional, Dense, Embedding"
      ]
    },
    {
      "cell_type": "code",
      "source": [
        "# Generating a simple dataset\n",
        "def generate_sequence(length=500):\n",
        "    return np.array([i for i in range(length)])\n",
        "\n",
        "def create_dataset(sequence, n_steps):\n",
        "    X, y = list(), list()\n",
        "    for i in range(len(sequence)):\n",
        "        end_ix = i + n_steps\n",
        "        if end_ix > len(sequence)-1:\n",
        "            break\n",
        "        seq_x, seq_y = sequence[i:end_ix], sequence[end_ix]\n",
        "        X.append(seq_x)\n",
        "        y.append(seq_y)\n",
        "    return np.array(X), np.array(y)\n",
        "\n",
        "sequence = generate_sequence()\n",
        "n_steps = 10\n",
        "X, y = create_dataset(sequence, n_steps)\n",
        "X"
      ],
      "metadata": {
        "colab": {
          "base_uri": "https://localhost:8080/"
        },
        "id": "HdfcSnuE49XK",
        "outputId": "6d78c1db-2e47-487c-f01a-89fe7cd9b141"
      },
      "execution_count": 11,
      "outputs": [
        {
          "output_type": "execute_result",
          "data": {
            "text/plain": [
              "array([[  0,   1,   2, ...,   7,   8,   9],\n",
              "       [  1,   2,   3, ...,   8,   9,  10],\n",
              "       [  2,   3,   4, ...,   9,  10,  11],\n",
              "       ...,\n",
              "       [487, 488, 489, ..., 494, 495, 496],\n",
              "       [488, 489, 490, ..., 495, 496, 497],\n",
              "       [489, 490, 491, ..., 496, 497, 498]])"
            ]
          },
          "metadata": {},
          "execution_count": 11
        }
      ]
    },
    {
      "cell_type": "code",
      "source": [
        "# Reshaping the input to be 3D [samples, timesteps, features]\n",
        "X = X.reshape((X.shape[0], X.shape[1], 1))\n",
        "print(X.shape)"
      ],
      "metadata": {
        "colab": {
          "base_uri": "https://localhost:8080/"
        },
        "id": "imZHbL5b5Lon",
        "outputId": "ba05953d-dad0-45a4-8b8d-9e9c96a4a7df"
      },
      "execution_count": 8,
      "outputs": [
        {
          "output_type": "stream",
          "name": "stdout",
          "text": [
            "(490, 10, 1)\n"
          ]
        }
      ]
    },
    {
      "cell_type": "code",
      "source": [
        "# Simple RNN\n",
        "model = Sequential()\n",
        "model.add(SimpleRNN(50, activation='relu', input_shape=(n_steps, 1)))\n",
        "model.add(Dense(1))\n",
        "model.compile(optimizer='adam', loss='mse')\n",
        "\n",
        "model.fit(X, y, epochs=200, verbose=0)"
      ],
      "metadata": {
        "colab": {
          "base_uri": "https://localhost:8080/"
        },
        "id": "_jWk2C8I5hTc",
        "outputId": "aa3a99bd-e0ce-403e-b2b6-eec820a4baa8"
      },
      "execution_count": 9,
      "outputs": [
        {
          "output_type": "execute_result",
          "data": {
            "text/plain": [
              "<keras.src.callbacks.History at 0x7c36bc78fe50>"
            ]
          },
          "metadata": {},
          "execution_count": 9
        }
      ]
    },
    {
      "cell_type": "code",
      "source": [
        "# Making predictions\n",
        "x_input = np.array([500,501,502,503,504,505,506,507,508,509]).reshape((1, n_steps, 1))\n",
        "yhat = model.predict(x_input, verbose=0)\n",
        "print(yhat)"
      ],
      "metadata": {
        "colab": {
          "base_uri": "https://localhost:8080/"
        },
        "id": "sZZPREkb5kah",
        "outputId": "a31b5029-3bc8-4598-fce7-6fdee27b56be"
      },
      "execution_count": 10,
      "outputs": [
        {
          "output_type": "stream",
          "name": "stdout",
          "text": [
            "[[510.06323]]\n"
          ]
        }
      ]
    }
  ]
}